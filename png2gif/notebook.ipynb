{
 "cells": [
  {
   "cell_type": "code",
<<<<<<< HEAD
   "execution_count": 1,
=======
   "execution_count": 2,
>>>>>>> bf201ce (update to spine ladder calculations)
   "metadata": {},
   "outputs": [],
   "source": [
    "from PIL import Image\n",
    "import sys, os\n",
    "import numpy as np\n",
    "import matplotlib.pyplot as plt"
   ]
  },
  {
   "cell_type": "code",
<<<<<<< HEAD
   "execution_count": 4,
=======
   "execution_count": 5,
>>>>>>> bf201ce (update to spine ladder calculations)
   "metadata": {},
   "outputs": [
    {
     "ename": "IndexError",
     "evalue": "list index out of range",
     "output_type": "error",
     "traceback": [
      "\u001b[0;31m---------------------------------------------------------------------------\u001b[0m",
      "\u001b[0;31mIndexError\u001b[0m                                Traceback (most recent call last)",
      "Cell \u001b[0;32mIn[5], line 29\u001b[0m\n\u001b[1;32m     27\u001b[0m         y_offset \u001b[38;5;241m=\u001b[39m height \u001b[38;5;241m*\u001b[39m \u001b[38;5;28mint\u001b[39m((idx\u001b[38;5;241m+\u001b[39m\u001b[38;5;241m1\u001b[39m)\u001b[38;5;241m/\u001b[39mn_row)\n\u001b[1;32m     28\u001b[0m     collated_imgs \u001b[38;5;241m+\u001b[39m\u001b[38;5;241m=\u001b[39m [new_im]\n\u001b[0;32m---> 29\u001b[0m \u001b[43mcollated_imgs\u001b[49m\u001b[43m[\u001b[49m\u001b[38;5;241;43m0\u001b[39;49m\u001b[43m]\u001b[49m\u001b[38;5;241m.\u001b[39msave(fp\u001b[38;5;241m=\u001b[39m\u001b[38;5;124m'\u001b[39m\u001b[38;5;124mcombined.gif\u001b[39m\u001b[38;5;124m'\u001b[39m, \u001b[38;5;28mformat\u001b[39m\u001b[38;5;241m=\u001b[39m\u001b[38;5;124m'\u001b[39m\u001b[38;5;124mGIF\u001b[39m\u001b[38;5;124m'\u001b[39m, append_images\u001b[38;5;241m=\u001b[39mcollated_imgs,\n\u001b[1;32m     30\u001b[0m         save_all\u001b[38;5;241m=\u001b[39m\u001b[38;5;28;01mTrue\u001b[39;00m, duration\u001b[38;5;241m=\u001b[39m\u001b[38;5;241m60\u001b[39m, loop\u001b[38;5;241m=\u001b[39m\u001b[38;5;241m0\u001b[39m)\n\u001b[1;32m     31\u001b[0m \u001b[38;5;66;03m# orbital\u001b[39;00m\n",
      "\u001b[0;31mIndexError\u001b[0m: list index out of range"
     ]
    }
   ],
   "source": [
    "def sort_dir(s):\n",
    "    return int(s[4:])\n",
    "\n",
    "def sort_png(s):\n",
    "    return int(s.split('.')[0][-1:])\n",
    "png_dir = './pngs'\n",
    "\n",
    "collated_imgs = []\n",
    "for dir in sorted(os.listdir(png_dir), key=sort_dir):\n",
    "    png_list = sorted(os.listdir(png_dir+dir), key=sort_png)\n",
    "    root_len_png_list = np.sqrt(len(png_list))\n",
    "    n_col = np.ceil(root_len_png_list)\n",
    "    n_row = np.floor(root_len_png_list)\n",
    "    if n_row * n_col < len(png_list):\n",
    "        n_row = np.round(root_len_png_list)\n",
    "    \n",
    "    orbitals = [Image.open(png_dir+dir+'/'+png) for png in png_list]\n",
    "    width, height = orbitals[0].size\n",
    "        \n",
    "    new_im = Image.new('RGB', (int(width*n_col), int(height*n_row)))\n",
    "    x_offset = 0\n",
    "    y_offset = 0\n",
    "    for idx, im in enumerate(orbitals):\n",
    "        new_im.paste(im, (x_offset,y_offset))\n",
    "        x_offset = width * int((idx+1)%n_col)\n",
    "        y_offset = height * int((idx+1)/n_row)\n",
    "    collated_imgs += [new_im]\n",
    "collated_imgs[0].save(fp='combined.gif', format='GIF', append_images=collated_imgs,\n",
    "        save_all=True, duration=240, loop=0)\n",
    "# orbital"
   ]
  },
  {
   "cell_type": "code",
   "execution_count": 16,
   "metadata": {},
   "outputs": [],
   "source": [
    "png_dir = './Nd_complex/pngs'\n",
    "\n",
    "def sort_png(s):\n",
    "    return int(s.split('.')[0])\n",
    "\n",
    "png_list = sorted(os.listdir(png_dir), key=sort_png)\n",
    "pngs = [Image.open(png_dir+'/'+png).resize((1200, 720)) for png in png_list]\n",
    "\n",
    "pngs[0].save(fp='combined.gif', format='GIF', append_images=pngs,\n",
    "        save_all=True, duration=int(1000/24), loop=0, quality=0.9, optimize=True)\n",
    "# orbital"
   ]
  }
 ],
 "metadata": {
  "kernelspec": {
   "display_name": "pil",
   "language": "python",
   "name": "python3"
  },
  "language_info": {
   "codemirror_mode": {
    "name": "ipython",
    "version": 3
   },
   "file_extension": ".py",
   "mimetype": "text/x-python",
   "name": "python",
   "nbconvert_exporter": "python",
   "pygments_lexer": "ipython3",
   "version": "3.12.5"
  }
 },
 "nbformat": 4,
 "nbformat_minor": 2
}
