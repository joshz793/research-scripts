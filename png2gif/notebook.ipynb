{
 "cells": [
  {
   "cell_type": "code",
   "execution_count": 67,
   "metadata": {},
   "outputs": [],
   "source": [
    "from PIL import Image\n",
    "import sys, os\n",
    "import numpy as np\n",
    "import matplotlib.pyplot as plt"
   ]
  },
  {
   "cell_type": "code",
   "execution_count": 105,
   "metadata": {},
   "outputs": [],
   "source": [
    "def sort_dir(s):\n",
    "    return int(s[4:])\n",
    "\n",
    "def sort_png(s):\n",
    "    return int(s.split('.')[0][-1:])\n",
    "\n",
    "collated_imgs = []\n",
    "for dir in sorted(os.listdir('./pngs'), key=sort_dir):\n",
    "    png_list = sorted(os.listdir('./pngs/'+dir), key=sort_png)\n",
    "    root_len_png_list = np.sqrt(len(png_list))\n",
    "    n_col = np.ceil(root_len_png_list)\n",
    "    n_row = np.floor(root_len_png_list)\n",
    "    if n_row * n_col < len(png_list):\n",
    "        n_row = np.round(root_len_png_list)\n",
    "    \n",
    "    orbitals = [Image.open('./pngs/'+dir+'/'+png) for png in png_list]\n",
    "    width, height = orbitals[0].size\n",
    "        \n",
    "    new_im = Image.new('RGB', (int(width*n_col), int(height*n_row)))\n",
    "    x_offset = 0\n",
    "    y_offset = 0\n",
    "    for idx, im in enumerate(orbitals):\n",
    "        new_im.paste(im, (x_offset,y_offset))\n",
    "        x_offset = width * int((idx+1)%n_col)\n",
    "        y_offset = height * int((idx+1)/n_row)\n",
    "    collated_imgs += [new_im]\n",
    "collated_imgs[0].save(fp='combined.gif', format='GIF', append_images=collated_imgs,\n",
    "        save_all=True, duration=60, loop=0)\n",
    "# orbital"
   ]
  }
 ],
 "metadata": {
  "kernelspec": {
   "display_name": "pil",
   "language": "python",
   "name": "python3"
  },
  "language_info": {
   "codemirror_mode": {
    "name": "ipython",
    "version": 3
   },
   "file_extension": ".py",
   "mimetype": "text/x-python",
   "name": "python",
   "nbconvert_exporter": "python",
   "pygments_lexer": "ipython3",
   "version": "3.13.0"
  }
 },
 "nbformat": 4,
 "nbformat_minor": 2
}
